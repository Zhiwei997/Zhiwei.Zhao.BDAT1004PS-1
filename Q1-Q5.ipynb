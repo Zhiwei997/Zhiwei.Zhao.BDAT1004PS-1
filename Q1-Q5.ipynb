{
 "cells": [
  {
   "cell_type": "raw",
   "id": "8ebc2c20",
   "metadata": {},
   "source": [
    "Question 1 C#\n",
    "What data type is each of the following?    Answer\n",
    "5                             integer\n",
    "5.0                            float\n",
    "5 > 1                          boolean\n",
    "'5'                            string\n",
    "5 * 2                          integer\n",
    "'5' * 2                         string\n",
    "'5' + '2'                        string\n",
    "5 / 2                           float\n",
    "5 % 2                           integer\n",
    "{5, 2, 1}                        array\n",
    "5 == 3                          boolean\n",
    "Pi (the number)                    double\n",
    "\n",
    "Question 2 C#\n",
    "Write (and evaluate) C# expressions that answer these questions:\n",
    "a. How many letters are there in 'Supercalifragilisticexpialidocious'?\n",
    "b. Does 'Supercalifragilisticexpialidocious' contain 'ice' as a substring?\n",
    "c. Which of the following words is the longest: \n",
    "Supercalifragilisticexpialidocious, Honorificabilitudinitatibus, or \n",
    "Bababadalgharaghtakamminarronnkonn?\n",
    "d. Which composer comes first in the dictionary: 'Berlioz', 'Borodin', 'Brian', \n",
    "'Bartok', 'Bellini', 'Buxtehude', 'Bernstein'. Which one comes last?"
   ]
  },
  {
   "cell_type": "code",
   "execution_count": 47,
   "id": "181f2e39",
   "metadata": {},
   "outputs": [
    {
     "name": "stdout",
     "output_type": "stream",
     "text": [
      "a. There are 34 letters in 'Supercalifragilisticexpialidocious'.\n",
      "b. 'Supercalifragilisticexpialidocious' contains 'ice' as a substring\n",
      "c. 'Bababadalgharaghtakamminarronnkonn' is the longest.\n",
      "d. The composer Bartok comes first in Dictionary.\n",
      "   The composer Buxtehude comes last in Dictionary.\n"
     ]
    }
   ],
   "source": [
    "//2.a\n",
    "string w1 = \"Supercalifragilisticexpialidocious\";\n",
    "Console.WriteLine ($\"a. There are {w.Length} letters in '{w}'.\");\n",
    "\n",
    "//2.b  \n",
    "if (w.Contains(\"ice\"))\n",
    "    {\n",
    "    Console.WriteLine($\"b. '{w}' contains 'ice' as a substring\");\n",
    "    }\n",
    "    else\n",
    "    {\n",
    "    Console.WriteLine($\"b. '{w}' does not contain 'ice' as a substring\");\n",
    "    }\n",
    "    \n",
    "//2.c\n",
    "string w2 = \"Honorificabilitudinitatibus\";\n",
    "string w3 = \"Bababadalgharaghtakamminarronnkonn\";\n",
    "\n",
    "if(w1.Length>w2.Length)\n",
    "    {\n",
    "     if(w1.Length>w3.Length)\n",
    "        {\n",
    "        Console.WriteLine($\"c. '{w1}' is the longest.\");\n",
    "        }\n",
    "        else\n",
    "        {\n",
    "        Console.WriteLine($\"c. '{w3}' is the longest.\");\n",
    "        }\n",
    "        }\n",
    "    else\n",
    "    {\n",
    "    if(w2.Length>w3.Length)\n",
    "        {\n",
    "        Console.WriteLine($\"c. '{w2}' is the longest.\");\n",
    "        }\n",
    "        else\n",
    "        {\n",
    "        Console.WriteLine($\"c. '{w3}' is the longest.\");\n",
    "        }\n",
    "    }\n",
    "    \n",
    "//2.d\n",
    "string[] dict = {\"Berlioz\", \"Borodin\", \"Brian\",\"Bartok\", \"Bellini\", \"Buxtehude\", \"Bernstein\"};\n",
    "Array.Sort(dict);  \n",
    "Console.WriteLine($\"d. The composer {dict[0]} comes first in Dictionary.\");\n",
    "Array.Reverse(dict);\n",
    "Console.WriteLine($\"   The composer {dict[0]} comes last in Dictionary.\");"
   ]
  },
  {
   "cell_type": "raw",
   "id": "ecdad131",
   "metadata": {},
   "source": [
    "Question 3 C#\n",
    "Implement function triangleArea(a,b,c) that takes as input the lengths of the 3 \n",
    "sides of a triangle and returns the area of the triangle. By Heron's formula, the area \n",
    "of a triangle with side lengths a, b, and c is s(s − a)(s −b)(s −c), where\n",
    "s = (a + b + c)/2.\n",
    ">>> triangleArea(2,2,2) \n",
    "1.7320508075688772"
   ]
  },
  {
   "cell_type": "code",
   "execution_count": 48,
   "id": "d04cb73d",
   "metadata": {},
   "outputs": [
    {
     "name": "stdout",
     "output_type": "stream",
     "text": [
      "1.7320508075688772\r\n"
     ]
    }
   ],
   "source": [
    "//Answer 3\n",
    "public void triangleArea(float a, float b, float c){\n",
    "    \n",
    "    double s= (a+b+c)/2;\n",
    "    double area = Math.Sqrt(s*(s-a)*(s-b)*(s-c));\n",
    "    Console.WriteLine(area);   \n",
    "    }\n",
    "triangleArea(2,2,2);"
   ]
  },
  {
   "cell_type": "raw",
   "id": "95042620",
   "metadata": {},
   "source": [
    "Question 4 C#\n",
    "Write a program in C# Sharp to separate odd and even integers in separate arrays. \n",
    "Go to the editor\n",
    "Test Data :\n",
    "Input the number of elements to be stored in the array :5 \n",
    "Input 5 elements in the array :\n",
    "element - 0 : 25\n",
    "element - 1 : 47\n",
    "element - 2 : 42\n",
    "element - 3 : 56\n",
    "element - 4 : 32 \n",
    "Expected Output:\n",
    "The Even elements are: \n",
    "42 56 32\n",
    "The Odd elements are :\n",
    "25 47"
   ]
  },
  {
   "cell_type": "code",
   "execution_count": 49,
   "id": "f855ced3",
   "metadata": {},
   "outputs": [
    {
     "name": "stdout",
     "output_type": "stream",
     "text": [
      "The Even elements are:\n",
      "42\n",
      "56\n",
      "32\n",
      "\n",
      "The Odd elements are:\n",
      "25\n",
      "47\n",
      "\n"
     ]
    }
   ],
   "source": [
    "//Answer 4\n",
    "int[] input ={25,47,42,56,32}; \n",
    "      \n",
    "        string even =\"\"; \n",
    "        string odd =\"\"; \n",
    "        \n",
    "        foreach (var num in input)  \n",
    "        {  \n",
    "            if (num % 2 == 0)  \n",
    "            {even += num + \"\\n\";} \n",
    "            else { odd += num + \"\\n\" ; } \n",
    "        }\n",
    "    Console.WriteLine($\"The Even elements are:\");\n",
    "    Console.WriteLine($\"{even}\");\n",
    "    Console.WriteLine($\"The Odd elements are:\");\n",
    "    Console.WriteLine($\"{odd}\");"
   ]
  },
  {
   "cell_type": "raw",
   "id": "a0f8d4b2",
   "metadata": {},
   "source": [
    "Question 5 C#\n",
    "a. Write a function inside(x,y,x1,y1,x2,y2) that returns True or False \n",
    "dependingonwhetherthepoint(x,y)liesintherectanglewithlowerleft \n",
    "corner (x1,y1) and upper right corner (x2,y2).\n",
    ">>> inside(1,1,0,0,2,3)\n",
    "True\n",
    ">>> inside(-1,-1,0,0,2,3)\n",
    "False\n",
    "b. Use function inside()from part a. to write an expression that tests whether \n",
    "the point (1,1) lies in both of the following rectangles: one with lower left \n",
    "corner (0.3, 0.5) and upper right corner (1.1, 0.7) and the other with lower \n",
    "left corner (0.5, 0.2) and upper right corner (1.1, 2)."
   ]
  },
  {
   "cell_type": "code",
   "execution_count": 50,
   "id": "2aec5607",
   "metadata": {},
   "outputs": [
    {
     "name": "stdout",
     "output_type": "stream",
     "text": [
      "True\n",
      "False\n"
     ]
    },
    {
     "data": {
      "text/plain": [
       "False"
      ]
     },
     "execution_count": 50,
     "metadata": {},
     "output_type": "execute_result"
    }
   ],
   "source": [
    "//Answer 5.a\n",
    "public bool inside(double x,double y,double x1,double y1,double x2,double y2){\n",
    "    if (x > x1 && x < x2 && y > y1 && y < y2) \n",
    "        return true; \n",
    "    else\n",
    "    return false; \n",
    "} \n",
    "Console.WriteLine(inside(1,1,0,0,2,3));\n",
    "Console.WriteLine(inside(-1,-1,0,0,2,3));\n",
    "\n",
    "//5.b\n",
    "if(inside(1,1,0.3,0.5,1.1,0.7) == true && inside(1,1,0.5,0.2,1.1,2) == true)\n",
    "   return true;\n",
    "   else\n",
    "   return false;"
   ]
  },
  {
   "cell_type": "code",
   "execution_count": null,
   "id": "e6035bf3",
   "metadata": {},
   "outputs": [],
   "source": []
  }
 ],
 "metadata": {
  "kernelspec": {
   "display_name": ".NET (C#)",
   "language": "C#",
   "name": ".net-csharp"
  },
  "language_info": {
   "file_extension": ".cs",
   "mimetype": "text/x-csharp",
   "name": "C#",
   "pygments_lexer": "csharp",
   "version": "8.0"
  }
 },
 "nbformat": 4,
 "nbformat_minor": 5
}
